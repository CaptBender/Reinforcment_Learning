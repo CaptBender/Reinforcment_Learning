{
 "cells": [
  {
   "cell_type": "code",
   "execution_count": 1,
   "metadata": {},
   "outputs": [],
   "source": [
    "import pandas as pd\n",
    "import datetime\n",
    "#import dask.dataframe as dd\n",
    "from sklearn import preprocessing\n",
    "import numpy as np"
   ]
  },
  {
   "cell_type": "code",
   "execution_count": 2,
   "metadata": {},
   "outputs": [],
   "source": [
    "#FOR DATA WITHOUT TICKS\n",
    "pd.options.mode.chained_assignment = None # Turn off warnings on creating new Year/Month/Time columns\n",
    "\n",
    "startTime = '2018-01-03 00:00:00'\n",
    "endTime = '2018-12-21 23:59:59'\n",
    "SYMBOL = 'GBPJPY'\n",
    "def prepareDF_signal(dataframe):\n",
    "    dataframe['Time']=pd.to_datetime(dataframe['Time'], format='%Y.%m.%d %H:%M')\n",
    "    timeSeries_Start = pd.to_datetime(startTime)\n",
    "    timeSeries_End = pd.to_datetime(endTime)\n",
    "    dataframe1 = dataframe.loc[dataframe['Time'] >= timeSeries_Start]\n",
    "    dataframe3 = dataframe1.loc[dataframe1['Time'] <= timeSeries_End]\n",
    "    \n",
    "    return dataframe3"
   ]
  },
  {
   "cell_type": "code",
   "execution_count": 3,
   "metadata": {},
   "outputs": [],
   "source": [
    "def five(dataframe):\n",
    "    dataframe = prepareDF_signal(dataframe)\n",
    "    dataframe.drop(['5_Climactic Bar Strong','5_Climactic Bar Weak','5_HV Effort To Fall','5_HV Effort To Rise', '5_ND SO', '5_NSP RSO',\n",
    "                                     '5_Pseudo Upthrust','5_Stopping Volume', '5_Supply Test', '5_Smart Buying', '5_Smart Selling'], axis=1)\n",
    "    dataframe['Year'] = pd.DatetimeIndex(dataframe['Time']).year\n",
    "    dataframe['Month'] = pd.DatetimeIndex(dataframe['Time']).month\n",
    "    dataframe['Day'] = pd.DatetimeIndex(dataframe['Time']).day\n",
    "    dataframe = dataframe[['Time', 'Year', 'Month', 'Day', 'DayOfWeak', 'Hour', 'Minute', 'Open', 'Close', 'High', 'Low', 'Volume', 'RSI', 'MA',\n",
    "        '5_Buying Climax','5_Reverse Shake Out', '5_Reverse Upthrust', '5_Selling Climax', '5_Shake Out', '5_Upthrust']]       \n",
    "    return dataframe"
   ]
  },
  {
   "cell_type": "code",
   "execution_count": 4,
   "metadata": {},
   "outputs": [],
   "source": [
    "def fifteen(dataframe):\n",
    "    dataframe = prepareDF_signal(dataframe)\n",
    "    dataframe_short = dataframe[['Time', '15_Shake Out', '15_Reverse Shake Out', '15_Stopping Volume', '15_Supply Test', '15_Climactic Bar Strong', '15_Climactic Bar Weak','15_ND SO',\n",
    "       '15_NSP RSO']]\n",
    "    return dataframe_short"
   ]
  },
  {
   "cell_type": "code",
   "execution_count": 5,
   "metadata": {},
   "outputs": [],
   "source": [
    "def hour(dataframe):\n",
    "    dataframe = prepareDF_signal(dataframe)\n",
    "    dataframe_short = dataframe[['Time', '60_ND SO', '60_NSP RSO','60_Reverse Upthrust','60_Upthrust', '60_Smart Buying', '60_Smart Selling',\n",
    "                                '60_HV Effort To Fall', '60_HV Effort To Rise']]\n",
    "    return dataframe_short"
   ]
  },
  {
   "cell_type": "code",
   "execution_count": 6,
   "metadata": {},
   "outputs": [],
   "source": [
    "def day(dataframe):\n",
    "    dataframe = prepareDF_signal(dataframe)\n",
    "    dataframe.rename(columns={'MA': '1440_MA', 'RSI': '1440_RSI'}, inplace=True)\n",
    "    dataframe_short = dataframe[['Time', '1440_MA', '1440_RSI', '1440_Reverse Upthrust','1440_Upthrust','1440_Smart Buying', '1440_Smart Selling',\n",
    "                                '1440_Pseudo Upthrust', '1440_Pseudo Reverse Upthrust']]\n",
    "    return dataframe_short"
   ]
  },
  {
   "cell_type": "code",
   "execution_count": null,
   "metadata": {},
   "outputs": [],
   "source": []
  },
  {
   "cell_type": "code",
   "execution_count": 54,
   "metadata": {},
   "outputs": [],
   "source": [
    "def mergeDF(lowTF,highTF):\n",
    "    tf_merge = pd.merge(lowTF, highTF, on='Time', how='outer')\n",
    "    fill_merge = tf_merge.fillna(method='ffill')\n",
    "    return fill_merge"
   ]
  },
  {
   "cell_type": "markdown",
   "metadata": {},
   "source": [
    "LOAD CSV FILES WITH SIGNALS"
   ]
  },
  {
   "cell_type": "code",
   "execution_count": 45,
   "metadata": {},
   "outputs": [],
   "source": [
    "day_csv = pd.read_csv(f'data/GJ_short3/{SYMBOL}_1440.csv')\n",
    "day_df = day(day_csv)"
   ]
  },
  {
   "cell_type": "code",
   "execution_count": 46,
   "metadata": {},
   "outputs": [],
   "source": [
    "oneHour_csv = pd.read_csv(f'data/GJ_short3/{SYMBOL}_60.csv')\n",
    "oneHour_df = hour(oneHour_csv)"
   ]
  },
  {
   "cell_type": "code",
   "execution_count": 47,
   "metadata": {},
   "outputs": [],
   "source": [
    "fifteen_csv = pd.read_csv(f'data/GJ_short3/{SYMBOL}_15.csv')\n",
    "fifteen_df = fifteen(fifteen_csv)"
   ]
  },
  {
   "cell_type": "code",
   "execution_count": 48,
   "metadata": {},
   "outputs": [],
   "source": [
    "five_csv = pd.read_csv(f'data/GJ_short3/{SYMBOL}_5.csv')\n",
    "five_df = five(five_csv)"
   ]
  },
  {
   "cell_type": "markdown",
   "metadata": {},
   "source": [
    "MERGE SIGNAL DATAFRAMES"
   ]
  },
  {
   "cell_type": "code",
   "execution_count": 55,
   "metadata": {},
   "outputs": [],
   "source": [
    "mergefifteen = mergeDF(five_df,fifteen_df)\n",
    "mergeHour = mergeDF(mergefifteen,oneHour_df)\n",
    "#mergeFourHour = mergeDF(mergeHour,fourHour)\n",
    "mergeDay = mergeDF(mergeHour,day_df)"
   ]
  },
  {
   "cell_type": "code",
   "execution_count": 58,
   "metadata": {},
   "outputs": [
    {
     "data": {
      "text/html": [
       "<div>\n",
       "<style scoped>\n",
       "    .dataframe tbody tr th:only-of-type {\n",
       "        vertical-align: middle;\n",
       "    }\n",
       "\n",
       "    .dataframe tbody tr th {\n",
       "        vertical-align: top;\n",
       "    }\n",
       "\n",
       "    .dataframe thead th {\n",
       "        text-align: right;\n",
       "    }\n",
       "</style>\n",
       "<table border=\"1\" class=\"dataframe\">\n",
       "  <thead>\n",
       "    <tr style=\"text-align: right;\">\n",
       "      <th></th>\n",
       "      <th>60_Smart Buying</th>\n",
       "      <th>60_Smart Selling</th>\n",
       "      <th>60_HV Effort To Fall</th>\n",
       "      <th>60_HV Effort To Rise</th>\n",
       "      <th>1440_MA</th>\n",
       "      <th>1440_RSI</th>\n",
       "      <th>1440_Reverse Upthrust</th>\n",
       "      <th>1440_Upthrust</th>\n",
       "      <th>1440_Smart Buying</th>\n",
       "      <th>1440_Smart Selling</th>\n",
       "      <th>1440_Pseudo Upthrust</th>\n",
       "      <th>1440_Pseudo Reverse Upthrust</th>\n",
       "    </tr>\n",
       "  </thead>\n",
       "  <tbody>\n",
       "    <tr>\n",
       "      <th>2200</th>\n",
       "      <td>0.0</td>\n",
       "      <td>0.0</td>\n",
       "      <td>0.0</td>\n",
       "      <td>0.0</td>\n",
       "      <td>152.159214</td>\n",
       "      <td>40.913447</td>\n",
       "      <td>0.0</td>\n",
       "      <td>0.0</td>\n",
       "      <td>0.0</td>\n",
       "      <td>0.0</td>\n",
       "      <td>0.0</td>\n",
       "      <td>0.0</td>\n",
       "    </tr>\n",
       "    <tr>\n",
       "      <th>2201</th>\n",
       "      <td>0.0</td>\n",
       "      <td>0.0</td>\n",
       "      <td>0.0</td>\n",
       "      <td>0.0</td>\n",
       "      <td>152.159214</td>\n",
       "      <td>40.913447</td>\n",
       "      <td>0.0</td>\n",
       "      <td>0.0</td>\n",
       "      <td>0.0</td>\n",
       "      <td>0.0</td>\n",
       "      <td>0.0</td>\n",
       "      <td>0.0</td>\n",
       "    </tr>\n",
       "    <tr>\n",
       "      <th>2202</th>\n",
       "      <td>0.0</td>\n",
       "      <td>0.0</td>\n",
       "      <td>0.0</td>\n",
       "      <td>0.0</td>\n",
       "      <td>152.159214</td>\n",
       "      <td>40.913447</td>\n",
       "      <td>0.0</td>\n",
       "      <td>0.0</td>\n",
       "      <td>0.0</td>\n",
       "      <td>0.0</td>\n",
       "      <td>0.0</td>\n",
       "      <td>0.0</td>\n",
       "    </tr>\n",
       "    <tr>\n",
       "      <th>2203</th>\n",
       "      <td>0.0</td>\n",
       "      <td>0.0</td>\n",
       "      <td>0.0</td>\n",
       "      <td>0.0</td>\n",
       "      <td>152.159214</td>\n",
       "      <td>40.913447</td>\n",
       "      <td>0.0</td>\n",
       "      <td>0.0</td>\n",
       "      <td>0.0</td>\n",
       "      <td>0.0</td>\n",
       "      <td>0.0</td>\n",
       "      <td>0.0</td>\n",
       "    </tr>\n",
       "    <tr>\n",
       "      <th>2204</th>\n",
       "      <td>0.0</td>\n",
       "      <td>0.0</td>\n",
       "      <td>0.0</td>\n",
       "      <td>0.0</td>\n",
       "      <td>152.159214</td>\n",
       "      <td>40.913447</td>\n",
       "      <td>0.0</td>\n",
       "      <td>0.0</td>\n",
       "      <td>0.0</td>\n",
       "      <td>0.0</td>\n",
       "      <td>0.0</td>\n",
       "      <td>0.0</td>\n",
       "    </tr>\n",
       "    <tr>\n",
       "      <th>2205</th>\n",
       "      <td>0.0</td>\n",
       "      <td>0.0</td>\n",
       "      <td>0.0</td>\n",
       "      <td>0.0</td>\n",
       "      <td>152.159214</td>\n",
       "      <td>40.913447</td>\n",
       "      <td>0.0</td>\n",
       "      <td>0.0</td>\n",
       "      <td>0.0</td>\n",
       "      <td>0.0</td>\n",
       "      <td>0.0</td>\n",
       "      <td>0.0</td>\n",
       "    </tr>\n",
       "    <tr>\n",
       "      <th>2206</th>\n",
       "      <td>0.0</td>\n",
       "      <td>0.0</td>\n",
       "      <td>0.0</td>\n",
       "      <td>0.0</td>\n",
       "      <td>152.159214</td>\n",
       "      <td>40.913447</td>\n",
       "      <td>0.0</td>\n",
       "      <td>0.0</td>\n",
       "      <td>0.0</td>\n",
       "      <td>0.0</td>\n",
       "      <td>0.0</td>\n",
       "      <td>0.0</td>\n",
       "    </tr>\n",
       "    <tr>\n",
       "      <th>2207</th>\n",
       "      <td>0.0</td>\n",
       "      <td>0.0</td>\n",
       "      <td>0.0</td>\n",
       "      <td>0.0</td>\n",
       "      <td>152.159214</td>\n",
       "      <td>40.913447</td>\n",
       "      <td>0.0</td>\n",
       "      <td>0.0</td>\n",
       "      <td>0.0</td>\n",
       "      <td>0.0</td>\n",
       "      <td>0.0</td>\n",
       "      <td>0.0</td>\n",
       "    </tr>\n",
       "    <tr>\n",
       "      <th>2208</th>\n",
       "      <td>0.0</td>\n",
       "      <td>0.0</td>\n",
       "      <td>0.0</td>\n",
       "      <td>0.0</td>\n",
       "      <td>152.159214</td>\n",
       "      <td>40.913447</td>\n",
       "      <td>0.0</td>\n",
       "      <td>0.0</td>\n",
       "      <td>0.0</td>\n",
       "      <td>0.0</td>\n",
       "      <td>0.0</td>\n",
       "      <td>0.0</td>\n",
       "    </tr>\n",
       "    <tr>\n",
       "      <th>2209</th>\n",
       "      <td>0.0</td>\n",
       "      <td>0.0</td>\n",
       "      <td>0.0</td>\n",
       "      <td>0.0</td>\n",
       "      <td>152.159214</td>\n",
       "      <td>40.913447</td>\n",
       "      <td>0.0</td>\n",
       "      <td>0.0</td>\n",
       "      <td>0.0</td>\n",
       "      <td>0.0</td>\n",
       "      <td>0.0</td>\n",
       "      <td>0.0</td>\n",
       "    </tr>\n",
       "    <tr>\n",
       "      <th>2210</th>\n",
       "      <td>0.0</td>\n",
       "      <td>0.0</td>\n",
       "      <td>0.0</td>\n",
       "      <td>0.0</td>\n",
       "      <td>152.159214</td>\n",
       "      <td>40.913447</td>\n",
       "      <td>0.0</td>\n",
       "      <td>0.0</td>\n",
       "      <td>0.0</td>\n",
       "      <td>0.0</td>\n",
       "      <td>0.0</td>\n",
       "      <td>0.0</td>\n",
       "    </tr>\n",
       "    <tr>\n",
       "      <th>2211</th>\n",
       "      <td>0.0</td>\n",
       "      <td>0.0</td>\n",
       "      <td>0.0</td>\n",
       "      <td>0.0</td>\n",
       "      <td>152.159214</td>\n",
       "      <td>40.913447</td>\n",
       "      <td>0.0</td>\n",
       "      <td>0.0</td>\n",
       "      <td>0.0</td>\n",
       "      <td>0.0</td>\n",
       "      <td>0.0</td>\n",
       "      <td>0.0</td>\n",
       "    </tr>\n",
       "    <tr>\n",
       "      <th>2212</th>\n",
       "      <td>0.0</td>\n",
       "      <td>0.0</td>\n",
       "      <td>0.0</td>\n",
       "      <td>0.0</td>\n",
       "      <td>152.159214</td>\n",
       "      <td>40.913447</td>\n",
       "      <td>0.0</td>\n",
       "      <td>0.0</td>\n",
       "      <td>0.0</td>\n",
       "      <td>0.0</td>\n",
       "      <td>0.0</td>\n",
       "      <td>0.0</td>\n",
       "    </tr>\n",
       "    <tr>\n",
       "      <th>2213</th>\n",
       "      <td>0.0</td>\n",
       "      <td>0.0</td>\n",
       "      <td>0.0</td>\n",
       "      <td>0.0</td>\n",
       "      <td>152.159214</td>\n",
       "      <td>40.913447</td>\n",
       "      <td>0.0</td>\n",
       "      <td>0.0</td>\n",
       "      <td>0.0</td>\n",
       "      <td>0.0</td>\n",
       "      <td>0.0</td>\n",
       "      <td>0.0</td>\n",
       "    </tr>\n",
       "    <tr>\n",
       "      <th>2214</th>\n",
       "      <td>0.0</td>\n",
       "      <td>0.0</td>\n",
       "      <td>0.0</td>\n",
       "      <td>0.0</td>\n",
       "      <td>152.159214</td>\n",
       "      <td>40.913447</td>\n",
       "      <td>0.0</td>\n",
       "      <td>0.0</td>\n",
       "      <td>0.0</td>\n",
       "      <td>0.0</td>\n",
       "      <td>0.0</td>\n",
       "      <td>0.0</td>\n",
       "    </tr>\n",
       "    <tr>\n",
       "      <th>2215</th>\n",
       "      <td>0.0</td>\n",
       "      <td>0.0</td>\n",
       "      <td>0.0</td>\n",
       "      <td>0.0</td>\n",
       "      <td>152.159214</td>\n",
       "      <td>40.913447</td>\n",
       "      <td>0.0</td>\n",
       "      <td>0.0</td>\n",
       "      <td>0.0</td>\n",
       "      <td>0.0</td>\n",
       "      <td>0.0</td>\n",
       "      <td>0.0</td>\n",
       "    </tr>\n",
       "    <tr>\n",
       "      <th>2216</th>\n",
       "      <td>0.0</td>\n",
       "      <td>0.0</td>\n",
       "      <td>0.0</td>\n",
       "      <td>0.0</td>\n",
       "      <td>152.159214</td>\n",
       "      <td>40.913447</td>\n",
       "      <td>0.0</td>\n",
       "      <td>0.0</td>\n",
       "      <td>0.0</td>\n",
       "      <td>0.0</td>\n",
       "      <td>0.0</td>\n",
       "      <td>0.0</td>\n",
       "    </tr>\n",
       "    <tr>\n",
       "      <th>2217</th>\n",
       "      <td>0.0</td>\n",
       "      <td>0.0</td>\n",
       "      <td>0.0</td>\n",
       "      <td>0.0</td>\n",
       "      <td>152.159214</td>\n",
       "      <td>40.913447</td>\n",
       "      <td>0.0</td>\n",
       "      <td>0.0</td>\n",
       "      <td>0.0</td>\n",
       "      <td>0.0</td>\n",
       "      <td>0.0</td>\n",
       "      <td>0.0</td>\n",
       "    </tr>\n",
       "    <tr>\n",
       "      <th>2218</th>\n",
       "      <td>0.0</td>\n",
       "      <td>0.0</td>\n",
       "      <td>0.0</td>\n",
       "      <td>0.0</td>\n",
       "      <td>152.159214</td>\n",
       "      <td>40.913447</td>\n",
       "      <td>0.0</td>\n",
       "      <td>0.0</td>\n",
       "      <td>0.0</td>\n",
       "      <td>0.0</td>\n",
       "      <td>0.0</td>\n",
       "      <td>0.0</td>\n",
       "    </tr>\n",
       "    <tr>\n",
       "      <th>2219</th>\n",
       "      <td>0.0</td>\n",
       "      <td>0.0</td>\n",
       "      <td>0.0</td>\n",
       "      <td>0.0</td>\n",
       "      <td>152.159214</td>\n",
       "      <td>40.913447</td>\n",
       "      <td>0.0</td>\n",
       "      <td>0.0</td>\n",
       "      <td>0.0</td>\n",
       "      <td>0.0</td>\n",
       "      <td>0.0</td>\n",
       "      <td>0.0</td>\n",
       "    </tr>\n",
       "  </tbody>\n",
       "</table>\n",
       "</div>"
      ],
      "text/plain": [
       "      60_Smart Buying  60_Smart Selling  60_HV Effort To Fall  \\\n",
       "2200              0.0               0.0                   0.0   \n",
       "2201              0.0               0.0                   0.0   \n",
       "2202              0.0               0.0                   0.0   \n",
       "2203              0.0               0.0                   0.0   \n",
       "2204              0.0               0.0                   0.0   \n",
       "2205              0.0               0.0                   0.0   \n",
       "2206              0.0               0.0                   0.0   \n",
       "2207              0.0               0.0                   0.0   \n",
       "2208              0.0               0.0                   0.0   \n",
       "2209              0.0               0.0                   0.0   \n",
       "2210              0.0               0.0                   0.0   \n",
       "2211              0.0               0.0                   0.0   \n",
       "2212              0.0               0.0                   0.0   \n",
       "2213              0.0               0.0                   0.0   \n",
       "2214              0.0               0.0                   0.0   \n",
       "2215              0.0               0.0                   0.0   \n",
       "2216              0.0               0.0                   0.0   \n",
       "2217              0.0               0.0                   0.0   \n",
       "2218              0.0               0.0                   0.0   \n",
       "2219              0.0               0.0                   0.0   \n",
       "\n",
       "      60_HV Effort To Rise     1440_MA   1440_RSI  1440_Reverse Upthrust  \\\n",
       "2200                   0.0  152.159214  40.913447                    0.0   \n",
       "2201                   0.0  152.159214  40.913447                    0.0   \n",
       "2202                   0.0  152.159214  40.913447                    0.0   \n",
       "2203                   0.0  152.159214  40.913447                    0.0   \n",
       "2204                   0.0  152.159214  40.913447                    0.0   \n",
       "2205                   0.0  152.159214  40.913447                    0.0   \n",
       "2206                   0.0  152.159214  40.913447                    0.0   \n",
       "2207                   0.0  152.159214  40.913447                    0.0   \n",
       "2208                   0.0  152.159214  40.913447                    0.0   \n",
       "2209                   0.0  152.159214  40.913447                    0.0   \n",
       "2210                   0.0  152.159214  40.913447                    0.0   \n",
       "2211                   0.0  152.159214  40.913447                    0.0   \n",
       "2212                   0.0  152.159214  40.913447                    0.0   \n",
       "2213                   0.0  152.159214  40.913447                    0.0   \n",
       "2214                   0.0  152.159214  40.913447                    0.0   \n",
       "2215                   0.0  152.159214  40.913447                    0.0   \n",
       "2216                   0.0  152.159214  40.913447                    0.0   \n",
       "2217                   0.0  152.159214  40.913447                    0.0   \n",
       "2218                   0.0  152.159214  40.913447                    0.0   \n",
       "2219                   0.0  152.159214  40.913447                    0.0   \n",
       "\n",
       "      1440_Upthrust  1440_Smart Buying  1440_Smart Selling  \\\n",
       "2200            0.0                0.0                 0.0   \n",
       "2201            0.0                0.0                 0.0   \n",
       "2202            0.0                0.0                 0.0   \n",
       "2203            0.0                0.0                 0.0   \n",
       "2204            0.0                0.0                 0.0   \n",
       "2205            0.0                0.0                 0.0   \n",
       "2206            0.0                0.0                 0.0   \n",
       "2207            0.0                0.0                 0.0   \n",
       "2208            0.0                0.0                 0.0   \n",
       "2209            0.0                0.0                 0.0   \n",
       "2210            0.0                0.0                 0.0   \n",
       "2211            0.0                0.0                 0.0   \n",
       "2212            0.0                0.0                 0.0   \n",
       "2213            0.0                0.0                 0.0   \n",
       "2214            0.0                0.0                 0.0   \n",
       "2215            0.0                0.0                 0.0   \n",
       "2216            0.0                0.0                 0.0   \n",
       "2217            0.0                0.0                 0.0   \n",
       "2218            0.0                0.0                 0.0   \n",
       "2219            0.0                0.0                 0.0   \n",
       "\n",
       "      1440_Pseudo Upthrust  1440_Pseudo Reverse Upthrust  \n",
       "2200                   0.0                           0.0  \n",
       "2201                   0.0                           0.0  \n",
       "2202                   0.0                           0.0  \n",
       "2203                   0.0                           0.0  \n",
       "2204                   0.0                           0.0  \n",
       "2205                   0.0                           0.0  \n",
       "2206                   0.0                           0.0  \n",
       "2207                   0.0                           0.0  \n",
       "2208                   0.0                           0.0  \n",
       "2209                   0.0                           0.0  \n",
       "2210                   0.0                           0.0  \n",
       "2211                   0.0                           0.0  \n",
       "2212                   0.0                           0.0  \n",
       "2213                   0.0                           0.0  \n",
       "2214                   0.0                           0.0  \n",
       "2215                   0.0                           0.0  \n",
       "2216                   0.0                           0.0  \n",
       "2217                   0.0                           0.0  \n",
       "2218                   0.0                           0.0  \n",
       "2219                   0.0                           0.0  "
      ]
     },
     "execution_count": 58,
     "metadata": {},
     "output_type": "execute_result"
    }
   ],
   "source": [
    "#gf = day_df.iloc[:303,:]\n",
    "#gf.shape\n",
    "mergeDay.iloc[2200:,32:44].head(20)"
   ]
  },
  {
   "cell_type": "code",
   "execution_count": null,
   "metadata": {},
   "outputs": [],
   "source": [
    "mergeDay.columns.values"
   ]
  },
  {
   "cell_type": "code",
   "execution_count": 14,
   "metadata": {},
   "outputs": [
    {
     "name": "stdout",
     "output_type": "stream",
     "text": [
      "Empty DataFrame\n",
      "Columns: []\n",
      "Index: []\n"
     ]
    }
   ],
   "source": [
    "#USED TO TEST FOR NAN VALUES IF ALL TIMEFRAMES AREN'T ALIGNED 100% BY START/END TIME\n",
    "testPD = mergeDay\n",
    "null_columns=testPD.columns[testPD.isnull().any()]\n",
    "\n",
    "testPD[null_columns].isnull().sum()\n",
    "print(testPD[testPD.isnull().any(axis=1)][null_columns].head())"
   ]
  },
  {
   "cell_type": "code",
   "execution_count": null,
   "metadata": {},
   "outputs": [],
   "source": []
  },
  {
   "cell_type": "code",
   "execution_count": null,
   "metadata": {},
   "outputs": [],
   "source": []
  },
  {
   "cell_type": "code",
   "execution_count": 51,
   "metadata": {},
   "outputs": [],
   "source": [
    "mergeDay.columns = ['Time', 'Year', 'Month', 'Day', 'DayOfWeak', 'Hour', 'Minute',\n",
    "       'Open', 'Close', 'High', 'Low', 'Volume', 'RSI', 'MA','1440_MA',\n",
    "       '1440_RSI',\n",
    "       '5_Buying Climax', '5_Reverse Shake Out', '5_Reverse Upthrust',\n",
    "       '5_Selling Climax', '5_Shake Out', '5_Upthrust', '15_Shake Out',\n",
    "       '15_Reverse Shake Out', '15_Stopping Volume', '15_Supply Test',\n",
    "       '15_Climactic Bar Strong', '15_Climactic Bar Weak', '15_ND SO',\n",
    "       '15_NSP RSO', '60_ND SO', '60_NSP RSO', '60_Reverse Upthrust',\n",
    "       '60_Upthrust', '60_Smart Buying', '60_Smart Selling',\n",
    "       '60_HV Effort To Fall', '60_HV Effort To Rise',  '1440_Reverse Upthrust', '1440_Upthrust',\n",
    "       '1440_Smart Buying', '1440_Smart Selling', '1440_Pseudo Upthrust',\n",
    "       '1440_Pseudo Reverse Upthrust']"
   ]
  },
  {
   "cell_type": "code",
   "execution_count": 52,
   "metadata": {},
   "outputs": [],
   "source": [
    "signalColumns = ['5_Buying Climax', '5_Reverse Shake Out', '5_Reverse Upthrust',\n",
    "       '5_Selling Climax', '5_Shake Out', '5_Upthrust', '15_Shake Out',\n",
    "       '15_Reverse Shake Out', '15_Stopping Volume', '15_Supply Test',\n",
    "       '15_Climactic Bar Strong', '15_Climactic Bar Weak', '15_ND SO',\n",
    "       '15_NSP RSO', '60_ND SO', '60_NSP RSO', '60_Reverse Upthrust',\n",
    "       '60_Upthrust', '60_Smart Buying', '60_Smart Selling',\n",
    "       '60_HV Effort To Fall', '60_HV Effort To Rise',  '1440_Reverse Upthrust', '1440_Upthrust',\n",
    "       '1440_Smart Buying', '1440_Smart Selling', '1440_Pseudo Upthrust',\n",
    "       '1440_Pseudo Reverse Upthrust']"
   ]
  },
  {
   "cell_type": "markdown",
   "metadata": {},
   "source": [
    "CAST SIGNAL COLUMNS BACK TO INTEGER"
   ]
  },
  {
   "cell_type": "code",
   "execution_count": 17,
   "metadata": {},
   "outputs": [],
   "source": [
    "#merged = data_merged.copy()\n",
    "merged = mergeDay.copy()\n",
    "for column in signalColumns:\n",
    "    merged = merged.astype({column: int})"
   ]
  },
  {
   "cell_type": "code",
   "execution_count": 18,
   "metadata": {},
   "outputs": [
    {
     "data": {
      "text/plain": [
       "(72823, 43)"
      ]
     },
     "execution_count": 18,
     "metadata": {},
     "output_type": "execute_result"
    }
   ],
   "source": [
    "data_clean = merged.drop(['Time'], axis=1)\n",
    "data_clean.shape"
   ]
  },
  {
   "cell_type": "code",
   "execution_count": 35,
   "metadata": {},
   "outputs": [
    {
     "data": {
      "text/plain": [
       "0"
      ]
     },
     "execution_count": 35,
     "metadata": {},
     "output_type": "execute_result"
    }
   ],
   "source": [
    "data_clean['1440_MA'][46464]"
   ]
  },
  {
   "cell_type": "markdown",
   "metadata": {},
   "source": [
    "EXPORT"
   ]
  },
  {
   "cell_type": "code",
   "execution_count": 19,
   "metadata": {},
   "outputs": [],
   "source": [
    "export_csv = data_clean.to_csv(f'data\\\\{SYMBOL}_2018_5min_short44.csv', index=False, header=None)"
   ]
  },
  {
   "cell_type": "code",
   "execution_count": 20,
   "metadata": {},
   "outputs": [
    {
     "data": {
      "text/html": [
       "<div>\n",
       "<style scoped>\n",
       "    .dataframe tbody tr th:only-of-type {\n",
       "        vertical-align: middle;\n",
       "    }\n",
       "\n",
       "    .dataframe tbody tr th {\n",
       "        vertical-align: top;\n",
       "    }\n",
       "\n",
       "    .dataframe thead th {\n",
       "        text-align: right;\n",
       "    }\n",
       "</style>\n",
       "<table border=\"1\" class=\"dataframe\">\n",
       "  <thead>\n",
       "    <tr style=\"text-align: right;\">\n",
       "      <th></th>\n",
       "      <th>Year</th>\n",
       "      <th>Month</th>\n",
       "      <th>Day</th>\n",
       "      <th>DayOfWeak</th>\n",
       "      <th>Hour</th>\n",
       "      <th>Minute</th>\n",
       "      <th>Open</th>\n",
       "      <th>Close</th>\n",
       "      <th>High</th>\n",
       "      <th>Low</th>\n",
       "      <th>...</th>\n",
       "      <th>60_Smart Buying</th>\n",
       "      <th>60_Smart Selling</th>\n",
       "      <th>60_HV Effort To Fall</th>\n",
       "      <th>60_HV Effort To Rise</th>\n",
       "      <th>1440_Reverse Upthrust</th>\n",
       "      <th>1440_Upthrust</th>\n",
       "      <th>1440_Smart Buying</th>\n",
       "      <th>1440_Smart Selling</th>\n",
       "      <th>1440_Pseudo Upthrust</th>\n",
       "      <th>1440_Pseudo Reverse Upthrust</th>\n",
       "    </tr>\n",
       "  </thead>\n",
       "  <tbody>\n",
       "    <tr>\n",
       "      <th>0</th>\n",
       "      <td>2018</td>\n",
       "      <td>1</td>\n",
       "      <td>3</td>\n",
       "      <td>3</td>\n",
       "      <td>0</td>\n",
       "      <td>0</td>\n",
       "      <td>152.629</td>\n",
       "      <td>152.603</td>\n",
       "      <td>152.652</td>\n",
       "      <td>152.603</td>\n",
       "      <td>...</td>\n",
       "      <td>0</td>\n",
       "      <td>0</td>\n",
       "      <td>151</td>\n",
       "      <td>62</td>\n",
       "      <td>0</td>\n",
       "      <td>0</td>\n",
       "      <td>0</td>\n",
       "      <td>0</td>\n",
       "      <td>0</td>\n",
       "      <td>0</td>\n",
       "    </tr>\n",
       "    <tr>\n",
       "      <th>1</th>\n",
       "      <td>2018</td>\n",
       "      <td>1</td>\n",
       "      <td>3</td>\n",
       "      <td>3</td>\n",
       "      <td>0</td>\n",
       "      <td>5</td>\n",
       "      <td>152.603</td>\n",
       "      <td>152.644</td>\n",
       "      <td>152.661</td>\n",
       "      <td>152.603</td>\n",
       "      <td>...</td>\n",
       "      <td>0</td>\n",
       "      <td>0</td>\n",
       "      <td>151</td>\n",
       "      <td>62</td>\n",
       "      <td>0</td>\n",
       "      <td>0</td>\n",
       "      <td>0</td>\n",
       "      <td>0</td>\n",
       "      <td>0</td>\n",
       "      <td>0</td>\n",
       "    </tr>\n",
       "    <tr>\n",
       "      <th>2</th>\n",
       "      <td>2018</td>\n",
       "      <td>1</td>\n",
       "      <td>3</td>\n",
       "      <td>3</td>\n",
       "      <td>0</td>\n",
       "      <td>10</td>\n",
       "      <td>152.644</td>\n",
       "      <td>152.653</td>\n",
       "      <td>152.668</td>\n",
       "      <td>152.639</td>\n",
       "      <td>...</td>\n",
       "      <td>0</td>\n",
       "      <td>0</td>\n",
       "      <td>151</td>\n",
       "      <td>62</td>\n",
       "      <td>0</td>\n",
       "      <td>0</td>\n",
       "      <td>0</td>\n",
       "      <td>0</td>\n",
       "      <td>0</td>\n",
       "      <td>0</td>\n",
       "    </tr>\n",
       "    <tr>\n",
       "      <th>3</th>\n",
       "      <td>2018</td>\n",
       "      <td>1</td>\n",
       "      <td>3</td>\n",
       "      <td>3</td>\n",
       "      <td>0</td>\n",
       "      <td>15</td>\n",
       "      <td>152.654</td>\n",
       "      <td>152.656</td>\n",
       "      <td>152.662</td>\n",
       "      <td>152.644</td>\n",
       "      <td>...</td>\n",
       "      <td>0</td>\n",
       "      <td>0</td>\n",
       "      <td>151</td>\n",
       "      <td>62</td>\n",
       "      <td>0</td>\n",
       "      <td>0</td>\n",
       "      <td>0</td>\n",
       "      <td>0</td>\n",
       "      <td>0</td>\n",
       "      <td>0</td>\n",
       "    </tr>\n",
       "    <tr>\n",
       "      <th>4</th>\n",
       "      <td>2018</td>\n",
       "      <td>1</td>\n",
       "      <td>3</td>\n",
       "      <td>3</td>\n",
       "      <td>0</td>\n",
       "      <td>20</td>\n",
       "      <td>152.656</td>\n",
       "      <td>152.669</td>\n",
       "      <td>152.671</td>\n",
       "      <td>152.647</td>\n",
       "      <td>...</td>\n",
       "      <td>0</td>\n",
       "      <td>0</td>\n",
       "      <td>151</td>\n",
       "      <td>62</td>\n",
       "      <td>0</td>\n",
       "      <td>0</td>\n",
       "      <td>0</td>\n",
       "      <td>0</td>\n",
       "      <td>0</td>\n",
       "      <td>0</td>\n",
       "    </tr>\n",
       "  </tbody>\n",
       "</table>\n",
       "<p>5 rows × 43 columns</p>\n",
       "</div>"
      ],
      "text/plain": [
       "   Year  Month  Day  DayOfWeak  Hour  Minute     Open    Close     High  \\\n",
       "0  2018      1    3          3     0       0  152.629  152.603  152.652   \n",
       "1  2018      1    3          3     0       5  152.603  152.644  152.661   \n",
       "2  2018      1    3          3     0      10  152.644  152.653  152.668   \n",
       "3  2018      1    3          3     0      15  152.654  152.656  152.662   \n",
       "4  2018      1    3          3     0      20  152.656  152.669  152.671   \n",
       "\n",
       "       Low  ...  60_Smart Buying  60_Smart Selling  60_HV Effort To Fall  \\\n",
       "0  152.603  ...                0                 0                   151   \n",
       "1  152.603  ...                0                 0                   151   \n",
       "2  152.639  ...                0                 0                   151   \n",
       "3  152.644  ...                0                 0                   151   \n",
       "4  152.647  ...                0                 0                   151   \n",
       "\n",
       "   60_HV Effort To Rise  1440_Reverse Upthrust  1440_Upthrust  \\\n",
       "0                    62                      0              0   \n",
       "1                    62                      0              0   \n",
       "2                    62                      0              0   \n",
       "3                    62                      0              0   \n",
       "4                    62                      0              0   \n",
       "\n",
       "   1440_Smart Buying  1440_Smart Selling  1440_Pseudo Upthrust  \\\n",
       "0                  0                   0                     0   \n",
       "1                  0                   0                     0   \n",
       "2                  0                   0                     0   \n",
       "3                  0                   0                     0   \n",
       "4                  0                   0                     0   \n",
       "\n",
       "   1440_Pseudo Reverse Upthrust  \n",
       "0                             0  \n",
       "1                             0  \n",
       "2                             0  \n",
       "3                             0  \n",
       "4                             0  \n",
       "\n",
       "[5 rows x 43 columns]"
      ]
     },
     "execution_count": 20,
     "metadata": {},
     "output_type": "execute_result"
    }
   ],
   "source": [
    "data_clean.head()"
   ]
  },
  {
   "cell_type": "markdown",
   "metadata": {},
   "source": [
    "SCALER"
   ]
  },
  {
   "cell_type": "code",
   "execution_count": null,
   "metadata": {},
   "outputs": [],
   "source": [
    "from sklearn.preprocessing import MinMaxScaler\n",
    "import joblib"
   ]
  },
  {
   "cell_type": "code",
   "execution_count": null,
   "metadata": {},
   "outputs": [],
   "source": [
    "scaler = MinMaxScaler(feature_range=(-1, 1))\n",
    "scl = scaler.fit(data_clean)\n",
    "scaler_filename = \"scaler\\\\GBPJPY_scaler_Live192.save\"\n",
    "joblib.dump(scaler, scaler_filename) \n"
   ]
  },
  {
   "cell_type": "code",
   "execution_count": null,
   "metadata": {},
   "outputs": [],
   "source": [
    "decay = 0.6\n",
    "lr= 0.01"
   ]
  },
  {
   "cell_type": "code",
   "execution_count": null,
   "metadata": {},
   "outputs": [],
   "source": [
    "epoch = [1,2,3,4,5,6,7,8,9,10]\n",
    "for i in epoch:\n",
    "    lr = lr*decay\n",
    "    print(lr)"
   ]
  },
  {
   "cell_type": "code",
   "execution_count": null,
   "metadata": {},
   "outputs": [],
   "source": [
    "import pandas as pd\n",
    "data7 = pd.read_csv('data\\GBPJPY_2018_5min_NOtick.csv', header=None)"
   ]
  },
  {
   "cell_type": "code",
   "execution_count": null,
   "metadata": {},
   "outputs": [],
   "source": [
    "data7.head()"
   ]
  },
  {
   "cell_type": "code",
   "execution_count": null,
   "metadata": {},
   "outputs": [],
   "source": [
    "from sklearn.preprocessing import MinMaxScaler\n",
    "scaler = MinMaxScaler(feature_range=(-1, 1))"
   ]
  },
  {
   "cell_type": "code",
   "execution_count": null,
   "metadata": {},
   "outputs": [],
   "source": [
    "sc_data = scaler.fit_transform(data7)"
   ]
  },
  {
   "cell_type": "code",
   "execution_count": null,
   "metadata": {},
   "outputs": [],
   "source": [
    "import numpy as np\n",
    "row1 = np.array(sc_data[11654])"
   ]
  },
  {
   "cell_type": "code",
   "execution_count": null,
   "metadata": {},
   "outputs": [],
   "source": [
    "row2 = row1.astype('float16')"
   ]
  },
  {
   "cell_type": "code",
   "execution_count": 43,
   "metadata": {},
   "outputs": [
    {
     "data": {
      "text/plain": [
       "array([0.00000000e+00, 2.01900000e+03, 5.00000000e+00, 1.00000000e+00,\n",
       "       3.00000000e+00, 0.00000000e+00, 0.00000000e+00, 1.45287000e+02,\n",
       "       1.45220000e+02, 1.45287000e+02, 1.45111000e+02, 2.10000000e+01,\n",
       "       5.41428116e+01, 1.45285714e+02, 0.00000000e+00, 0.00000000e+00,\n",
       "       0.00000000e+00, 0.00000000e+00, 0.00000000e+00, 0.00000000e+00,\n",
       "       0.00000000e+00, 0.00000000e+00, 0.00000000e+00, 0.00000000e+00,\n",
       "       0.00000000e+00, 0.00000000e+00, 0.00000000e+00, 0.00000000e+00,\n",
       "       0.00000000e+00, 0.00000000e+00, 0.00000000e+00, 1.35000000e+02,\n",
       "       1.45000000e+02, 5.80000000e+01, 0.00000000e+00, 0.00000000e+00,\n",
       "       0.00000000e+00, 0.00000000e+00, 0.00000000e+00, 0.00000000e+00,\n",
       "       0.00000000e+00, 1.00000000e+00, 0.00000000e+00, 0.00000000e+00,\n",
       "       0.00000000e+00, 0.00000000e+00, 0.00000000e+00, 0.00000000e+00,\n",
       "       0.00000000e+00, 0.00000000e+00, 0.00000000e+00, 0.00000000e+00,\n",
       "       2.18400000e+03, 1.44000000e+02, 7.20000000e+01, 0.00000000e+00,\n",
       "       0.00000000e+00, 0.00000000e+00, 0.00000000e+00, 0.00000000e+00,\n",
       "       0.00000000e+00, 0.00000000e+00, 1.00000000e+00, 0.00000000e+00,\n",
       "       0.00000000e+00, 0.00000000e+00, 0.00000000e+00, 0.00000000e+00,\n",
       "       0.00000000e+00, 0.00000000e+00, 0.00000000e+00, 0.00000000e+00,\n",
       "       0.00000000e+00, 4.83090000e+04, 1.45000000e+02, 4.90000000e+01,\n",
       "       0.00000000e+00, 0.00000000e+00, 0.00000000e+00, 0.00000000e+00,\n",
       "       0.00000000e+00, 0.00000000e+00, 0.00000000e+00, 0.00000000e+00,\n",
       "       1.00000000e+00, 0.00000000e+00, 0.00000000e+00, 0.00000000e+00,\n",
       "       0.00000000e+00, 0.00000000e+00, 0.00000000e+00, 0.00000000e+00,\n",
       "       0.00000000e+00, 0.00000000e+00, 0.00000000e+00])"
      ]
     },
     "execution_count": 43,
     "metadata": {},
     "output_type": "execute_result"
    }
   ],
   "source": [
    "data= np.genfromtxt('data\\\\WORK_10pip_1hour_GBPJPY_2019_5min_short94.csv', delimiter=',')\n",
    "data[1]"
   ]
  },
  {
   "cell_type": "code",
   "execution_count": null,
   "metadata": {},
   "outputs": [],
   "source": [
    "data_clean.iloc[:1,:15]"
   ]
  },
  {
   "cell_type": "code",
   "execution_count": null,
   "metadata": {},
   "outputs": [],
   "source": [
    "y = np.empty((data_clean.shape[0],2))\n",
    "counter = [0,0,0]\n",
    "for index, row in data_clean.iterrows():\n",
    "    if index > data_clean.shape[0]-40:\n",
    "        break\n",
    "    y[index,0] = index\n",
    "    price = row.iloc[7]\n",
    "    for i in range(20):\n",
    "        if data_clean.iloc[index+i+1][7] > price + 0.2:\n",
    "            y[index,1] = 1\n",
    "            counter[1] += 1\n",
    "            break\n",
    "        elif data_clean.iloc[index+i+1][7] < price-0.2:\n",
    "            y[index,1] = 2\n",
    "            counter[2] += 1\n",
    "            break\n",
    "        else:\n",
    "            if i == 19:\n",
    "                y[index,1] = 0\n",
    "                counter[0] += 1\n",
    "            \n",
    "print(f'DONE! Zero: {counter[0]}  Ones: {counter[1]}  Twos: {counter[2]}')"
   ]
  },
  {
   "cell_type": "code",
   "execution_count": null,
   "metadata": {},
   "outputs": [],
   "source": [
    "DONE! Zero: 6086  Ones: 30205  Twos: 31922"
   ]
  },
  {
   "cell_type": "code",
   "execution_count": null,
   "metadata": {},
   "outputs": [],
   "source": [
    "y_adj = y[:-40,:]"
   ]
  },
  {
   "cell_type": "code",
   "execution_count": null,
   "metadata": {},
   "outputs": [],
   "source": [
    "#y_adj.shape\n",
    "df = pd.DataFrame(y_adj)\n",
    "df.describe()"
   ]
  },
  {
   "cell_type": "code",
   "execution_count": null,
   "metadata": {},
   "outputs": [],
   "source": [
    "#y = pd.DataFrame(y_adj)\n",
    "#i = 0\n",
    "#for index, row in y.iterrows():\n",
    "#    if row.iloc[1] == 2:\n",
    "#        for i in range(500):\n",
    "#            if y.iloc[index+i][1] != 2:\n",
    "#                row.iloc[1] = y.iloc[index+i][1]\n",
    "#                i += 1\n",
    "#                break\n",
    "#print(f'Done! {i}')"
   ]
  },
  {
   "cell_type": "code",
   "execution_count": null,
   "metadata": {},
   "outputs": [],
   "source": [
    "filter_arr = []\n",
    "\n",
    "# go through each element in arr\n",
    "for index, row in df.iterrows():\n",
    "  # if the element is completely divisble by 2, set the value to True, otherwise False\n",
    "  if row.iloc[1] == 2:\n",
    "    filter_arr.append(True)\n",
    "  else:\n",
    "    filter_arr.append(False)\n",
    "\n",
    "newarr = df[filter_arr]\n",
    "newarr.shape"
   ]
  },
  {
   "cell_type": "code",
   "execution_count": null,
   "metadata": {},
   "outputs": [],
   "source": [
    "16700+25098+26415"
   ]
  },
  {
   "cell_type": "code",
   "execution_count": null,
   "metadata": {},
   "outputs": [],
   "source": [
    "data_adj = data_clean.iloc[:-40,:]\n",
    "data_adj.shape"
   ]
  },
  {
   "cell_type": "code",
   "execution_count": null,
   "metadata": {},
   "outputs": [],
   "source": [
    "y = pd.DataFrame(y_adj)\n",
    "data_adj['y'] = y[1]"
   ]
  },
  {
   "cell_type": "code",
   "execution_count": null,
   "metadata": {},
   "outputs": [],
   "source": [
    "data_adj"
   ]
  },
  {
   "cell_type": "code",
   "execution_count": null,
   "metadata": {},
   "outputs": [],
   "source": [
    "export_csv = data_adj.to_csv(f'data\\\\WORK_20pip_1hour_{SYMBOL}_2018_5min_short44.csv')"
   ]
  },
  {
   "cell_type": "code",
   "execution_count": null,
   "metadata": {},
   "outputs": [],
   "source": []
  }
 ],
 "metadata": {
  "kernelspec": {
   "display_name": "keras1",
   "language": "python",
   "name": "keras1"
  },
  "language_info": {
   "codemirror_mode": {
    "name": "ipython",
    "version": 3
   },
   "file_extension": ".py",
   "mimetype": "text/x-python",
   "name": "python",
   "nbconvert_exporter": "python",
   "pygments_lexer": "ipython3",
   "version": "3.7.6"
  }
 },
 "nbformat": 4,
 "nbformat_minor": 4
}

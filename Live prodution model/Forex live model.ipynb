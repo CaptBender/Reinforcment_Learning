{
 "cells": [
  {
   "cell_type": "code",
   "execution_count": 1,
   "metadata": {},
   "outputs": [],
   "source": [
    "#from DWX_ZeroMQ_Connector_v2_0_2_RC1 import DWX_ZeroMQ_Connector\n",
    "from DWX_ZeroMQ_Connector_v2_0_1_RC8 import DWX_ZeroMQ_Connector"
   ]
  },
  {
   "cell_type": "code",
   "execution_count": 2,
   "metadata": {},
   "outputs": [
    {
     "name": "stdout",
     "output_type": "stream",
     "text": [
      "[INIT] Ready to send commands to METATRADER (PUSH): 32768\n",
      "[INIT] Listening for responses from METATRADER (PULL): 32769\n",
      "[INIT] Listening for market data from METATRADER (SUB): 32771\n"
     ]
    }
   ],
   "source": [
    "zmq_data = DWX_ZeroMQ_Connector(_SUB_PORT=32771)"
   ]
  },
  {
   "cell_type": "code",
   "execution_count": 3,
   "metadata": {},
   "outputs": [
    {
     "name": "stdout",
     "output_type": "stream",
     "text": [
      "[KERNEL] Subscribed to GBPJPY BID/ASK updates. See self._Market_Data_DB.\n"
     ]
    }
   ],
   "source": [
    "zmq_data._DWX_MTX_SUBSCRIBE_MARKETDATA_(_symbol='GBPJPY')"
   ]
  },
  {
   "cell_type": "code",
   "execution_count": null,
   "metadata": {},
   "outputs": [],
   "source": [
    "zmq_data._DWX_MTX_UNSUBSCRIBE_MARKETDATA_(_symbol='GBPJPY')"
   ]
  },
  {
   "cell_type": "code",
   "execution_count": null,
   "metadata": {},
   "outputs": [],
   "source": [
    "bid[0]"
   ]
  },
  {
   "cell_type": "code",
   "execution_count": null,
   "metadata": {},
   "outputs": [],
   "source": [
    "zmq_data._Market_Data_DB['GBPJPY'][list(zmq_data._Market_Data_DB['GBPJPY'].keys())[-1]]"
   ]
  },
  {
   "cell_type": "code",
   "execution_count": null,
   "metadata": {},
   "outputs": [],
   "source": [
    "zmq_data._Market_Data_DB['GBPJPY']"
   ]
  },
  {
   "cell_type": "code",
   "execution_count": null,
   "metadata": {},
   "outputs": [],
   "source": [
    "zmq_data._Market_Data_DB.keys()"
   ]
  },
  {
   "cell_type": "code",
   "execution_count": 4,
   "metadata": {},
   "outputs": [],
   "source": [
    "zmq_data._DWX_MTX_GET_ALL_OPEN_TRADES_()"
   ]
  },
  {
   "cell_type": "code",
   "execution_count": null,
   "metadata": {},
   "outputs": [],
   "source": [
    "zmq_data._DWX_MTX_GET_ALL_OPEN_TRADES_()"
   ]
  },
  {
   "cell_type": "code",
   "execution_count": null,
   "metadata": {},
   "outputs": [],
   "source": [
    "zmq_data._DWX_MTX_NEW_TRADE_(order_dict)"
   ]
  },
  {
   "cell_type": "code",
   "execution_count": null,
   "metadata": {},
   "outputs": [],
   "source": [
    "order_dict = {'_action': 'OPEN',\n",
    "                      '_type': 0,\n",
    "                      '_symbol': 'GBPJPY',\n",
    "                      '_price': 0.0,\n",
    "                      '_SL': 100, # SL/TP in POINTS, not pips.\n",
    "                      '_TP': 2500,\n",
    "                      '_comment': 'DWX_Python_to_MT',\n",
    "                      '_lots': 0.01,\n",
    "                      '_magic': 123456,\n",
    "                      '_ticket': 0}"
   ]
  },
  {
   "cell_type": "code",
   "execution_count": null,
   "metadata": {},
   "outputs": [],
   "source": [
    "zmq_data._DWX_MTX_CLOSE_TRADE_BY_TICKET_(25161846)"
   ]
  },
  {
   "cell_type": "code",
   "execution_count": null,
   "metadata": {},
   "outputs": [],
   "source": [
    "print(svar)"
   ]
  },
  {
   "cell_type": "code",
   "execution_count": null,
   "metadata": {},
   "outputs": [],
   "source": [
    "zmq_data._DWX_MTX_GET_ALL_OPEN_TRADES_()"
   ]
  },
  {
   "cell_type": "code",
   "execution_count": null,
   "metadata": {},
   "outputs": [],
   "source": [
    "zmq_data._DWX_MTX_CLOSE_TRADE_BY_TICKET_(25160421)"
   ]
  },
  {
   "cell_type": "code",
   "execution_count": null,
   "metadata": {},
   "outputs": [],
   "source": [
    "status = zmq_data._DWX_MTX_GET_ALL_OPEN_TRADES_()"
   ]
  },
  {
   "cell_type": "code",
   "execution_count": null,
   "metadata": {},
   "outputs": [],
   "source": [
    "zmq_data._DWX_MTX_NEW_TRADE_()"
   ]
  },
  {
   "cell_type": "code",
   "execution_count": null,
   "metadata": {},
   "outputs": [],
   "source": [
    "zmq_data._DWX_MTX_CLOSE_TRADE_BY_TICKET_(25160602)"
   ]
  },
  {
   "cell_type": "code",
   "execution_count": null,
   "metadata": {},
   "outputs": [],
   "source": [
    "status = zmq_data._DWX_MTX_GET_ALL_OPEN_TRADES_()"
   ]
  },
  {
   "cell_type": "code",
   "execution_count": null,
   "metadata": {},
   "outputs": [],
   "source": [
    "print(luk)"
   ]
  },
  {
   "cell_type": "code",
   "execution_count": null,
   "metadata": {},
   "outputs": [],
   "source": [
    "ny_ordre"
   ]
  },
  {
   "cell_type": "code",
   "execution_count": null,
   "metadata": {},
   "outputs": [],
   "source": [
    "zmq_data._thread_data_output#['_response_value']"
   ]
  },
  {
   "cell_type": "code",
   "execution_count": null,
   "metadata": {},
   "outputs": [],
   "source": [
    "zmq_data._DWX_MTX_GET_ALL_OPEN_TRADES_()"
   ]
  },
  {
   "cell_type": "code",
   "execution_count": null,
   "metadata": {},
   "outputs": [],
   "source": []
  },
  {
   "cell_type": "code",
   "execution_count": null,
   "metadata": {},
   "outputs": [],
   "source": []
  },
  {
   "cell_type": "code",
   "execution_count": null,
   "metadata": {},
   "outputs": [],
   "source": [
    "zmq_data._DWX_MTX_CLOSE_ALL_TRADES_()"
   ]
  },
  {
   "cell_type": "code",
   "execution_count": null,
   "metadata": {},
   "outputs": [],
   "source": [
    "#zmq_data._thread_data_output"
   ]
  },
  {
   "cell_type": "code",
   "execution_count": null,
   "metadata": {},
   "outputs": [],
   "source": [
    "zmq_data._thread_data_output"
   ]
  },
  {
   "cell_type": "code",
   "execution_count": 5,
   "metadata": {},
   "outputs": [
    {
     "data": {
      "text/plain": [
       "25240562"
      ]
     },
     "execution_count": 5,
     "metadata": {},
     "output_type": "execute_result"
    }
   ],
   "source": [
    "ticket = list(zmq_data._thread_data_output['_trades'].keys())[0]\n",
    "ticket"
   ]
  },
  {
   "cell_type": "code",
   "execution_count": 6,
   "metadata": {},
   "outputs": [
    {
     "data": {
      "text/plain": [
       "134.198"
      ]
     },
     "execution_count": 6,
     "metadata": {},
     "output_type": "execute_result"
    }
   ],
   "source": [
    "zmq_data._thread_data_output['_trades'][ticket]['_open_price']"
   ]
  },
  {
   "cell_type": "code",
   "execution_count": null,
   "metadata": {},
   "outputs": [],
   "source": [
    "zmq_data._PUSH_SOCKET_STATUS"
   ]
  },
  {
   "cell_type": "code",
   "execution_count": null,
   "metadata": {},
   "outputs": [],
   "source": [
    "zmq_data._PULL_SOCKET_STATUS"
   ]
  },
  {
   "cell_type": "code",
   "execution_count": null,
   "metadata": {},
   "outputs": [],
   "source": [
    "zmq_data._DWX_MTX_GET_ALL_OPEN_TRADES_()"
   ]
  },
  {
   "cell_type": "code",
   "execution_count": null,
   "metadata": {},
   "outputs": [],
   "source": [
    "zmq_data._get_response_()"
   ]
  },
  {
   "cell_type": "code",
   "execution_count": null,
   "metadata": {},
   "outputs": [],
   "source": [
    "zmq_data._get_response_()"
   ]
  },
  {
   "cell_type": "code",
   "execution_count": null,
   "metadata": {},
   "outputs": [],
   "source": [
    "import datetime\n",
    "d = datetime.datetime.now()\n",
    "d.weekday()"
   ]
  },
  {
   "cell_type": "code",
   "execution_count": null,
   "metadata": {},
   "outputs": [],
   "source": [
    "key_list = list(zmq_data._thread_data_output['_trades'].keys())"
   ]
  },
  {
   "cell_type": "code",
   "execution_count": null,
   "metadata": {},
   "outputs": [],
   "source": [
    "key_list[0]"
   ]
  },
  {
   "cell_type": "code",
   "execution_count": null,
   "metadata": {},
   "outputs": [],
   "source": [
    "if zmq_data._thread_data_output['_trades'][(key_list[0])]['_symbol'] == 'GBPJPY':\n",
    "    print('yes')"
   ]
  },
  {
   "cell_type": "code",
   "execution_count": null,
   "metadata": {},
   "outputs": [],
   "source": [
    "for i in range(len(key_list)):\n",
    "    #key = key_list[i]\n",
    "    zmq_data._thread_data_output['_trades'][(key_list[i])]['_symbol']"
   ]
  },
  {
   "cell_type": "code",
   "execution_count": 7,
   "metadata": {},
   "outputs": [
    {
     "data": {
      "text/plain": [
       "{'_action': 'OPEN_TRADES',\n",
       " '_trades': {25240581: {'_magic': 123456,\n",
       "   '_symbol': 'GBPJPY',\n",
       "   '_lots': 0.01,\n",
       "   '_type': 0,\n",
       "   '_open_price': 134.193,\n",
       "   '_open_time': '2020.04.20 21:20:01',\n",
       "   '_SL': 133.993,\n",
       "   '_TP': 136.693,\n",
       "   '_pnl': -0.36,\n",
       "   '_comment': 'DWX_Python_to_MT'}}}"
      ]
     },
     "execution_count": 7,
     "metadata": {},
     "output_type": "execute_result"
    }
   ],
   "source": [
    "zmq_data._thread_data_output"
   ]
  },
  {
   "cell_type": "code",
   "execution_count": null,
   "metadata": {},
   "outputs": [],
   "source": [
    "price = zmq_data._thread_data_output['_trades'][(key_list[0])]['_open_price'] "
   ]
  },
  {
   "cell_type": "code",
   "execution_count": null,
   "metadata": {},
   "outputs": [],
   "source": [
    "zmq_data._get_response_()"
   ]
  },
  {
   "cell_type": "code",
   "execution_count": null,
   "metadata": {},
   "outputs": [],
   "source": [
    "zmq_data._DWX_MTX_NEW_TRADE_()"
   ]
  },
  {
   "cell_type": "code",
   "execution_count": null,
   "metadata": {},
   "outputs": [],
   "source": []
  },
  {
   "cell_type": "code",
   "execution_count": null,
   "metadata": {},
   "outputs": [],
   "source": []
  }
 ],
 "metadata": {
  "kernelspec": {
   "display_name": "Python 3",
   "language": "python",
   "name": "python3"
  },
  "language_info": {
   "codemirror_mode": {
    "name": "ipython",
    "version": 3
   },
   "file_extension": ".py",
   "mimetype": "text/x-python",
   "name": "python",
   "nbconvert_exporter": "python",
   "pygments_lexer": "ipython3",
   "version": "3.7.4"
  }
 },
 "nbformat": 4,
 "nbformat_minor": 4
}
